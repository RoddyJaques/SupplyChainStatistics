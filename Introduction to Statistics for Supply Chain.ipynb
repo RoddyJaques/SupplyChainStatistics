{
 "cells": [
  {
   "cell_type": "markdown",
   "id": "995700ce",
   "metadata": {},
   "source": [
    "# Introduction to Statistics for Supply Chain Workbook\n",
    "\n",
    "Author: Roddy Jaques<br>\n",
    "*Squarcle Consulting LTD*\n",
    "<br>\n",
    "***\n",
    "\n",
    "This workbook is complimentary to the training session delivered and allows learners to interact with the concepts discussed to gain a deeper understanding."
   ]
  },
  {
   "cell_type": "code",
   "execution_count": 4,
   "id": "38076753",
   "metadata": {
    "collapsed": true
   },
   "outputs": [],
   "source": [
    "import numpy as np \n",
    "import scipy.stats as stats\n",
    "import matplotlib.pyplot as plt \n",
    "import seaborn as sns\n",
    "import ipywidgets as widgets\n",
    "from IPython.display import HTML\n",
    "from IPython.display import display\n",
    "import math\n",
    "\n",
    "def det_model(dmd,LT):\n",
    "    print(\"Stock reccomendation: \" + str(math.ceil(dmd*LT)))\n",
    "\n",
    "wstyle = {'description_width': '150px'}\n",
    "\n",
    "ex1 = widgets.interactive(det_model,\n",
    "    dmd = widgets.BoundedFloatText(\n",
    "    value=1.0,\n",
    "    min=0,\n",
    "    max=10.0,\n",
    "    step=0.1,\n",
    "    description='Daily demand:',\n",
    "    disabled=False,\n",
    "    style=wstyle\n",
    "    ),\n",
    "    LT = widgets.BoundedIntText(\n",
    "    value=1,\n",
    "    min=0,\n",
    "    max=100,\n",
    "    step=1,\n",
    "    description='Lead time:',\n",
    "    disabled=False,\n",
    "    style=wstyle))"
   ]
  },
  {
   "cell_type": "markdown",
   "id": "27dbc881",
   "metadata": {},
   "source": [
    "### Deterministic models\n",
    "\n",
    "A deterministic model will always produce the same result for the same input, there is no uncertainty or variation in the method. \n",
    "\n",
    "The below example illustrates a simple supply chain model. A warehouse stock recommendation is given from a static daily demand and lead time. The stock reccomendation is the daily demand multiplied by the lead time. \n",
    "\n",
    "In a perfect world with no variation or uncertainty this model would ensure the warehouse is never out of stock. There is enough stock in the warehouse that daily demand is always satisfied while more stock is being delivered."
   ]
  },
  {
   "cell_type": "code",
   "execution_count": 1,
   "id": "adf880e5",
   "metadata": {
    "scrolled": true,
    "tags": []
   },
   "outputs": [
    {
     "data": {
      "application/vnd.jupyter.widget-view+json": {
       "model_id": "ab7f804407fe4437894e7c6d9fd0120d",
       "version_major": 2,
       "version_minor": 0
      },
      "text/plain": [
       "interactive(children=(BoundedFloatText(value=1.0, description='Daily demand:', max=10.0, step=0.1, style=Descr…"
      ]
     },
     "metadata": {},
     "output_type": "display_data"
    }
   ],
   "source": [
    "import numpy as np \n",
    "import scipy.stats as stats\n",
    "import matplotlib.pyplot as plt \n",
    "import seaborn as sns\n",
    "import ipywidgets as widgets\n",
    "from IPython.display import HTML\n",
    "from IPython.display import display\n",
    "import math\n",
    "\n",
    "def det_model(dmd,LT):\n",
    "    print(\"Stock reccomendation: \" + str(math.ceil(dmd*LT)))\n",
    "\n",
    "wstyle = {'description_width': '150px'}\n",
    "\n",
    "ex1 = widgets.interactive(det_model,\n",
    "    dmd = widgets.BoundedFloatText(\n",
    "    value=1.0,\n",
    "    min=0,\n",
    "    max=10.0,\n",
    "    step=0.1,\n",
    "    description='Daily demand:',\n",
    "    disabled=False,\n",
    "    style=wstyle\n",
    "    ),\n",
    "    LT = widgets.BoundedIntText(\n",
    "    value=1,\n",
    "    min=0,\n",
    "    max=100,\n",
    "    step=1,\n",
    "    description='Lead time:',\n",
    "    disabled=False,\n",
    "    style=wstyle))\n",
    "\n",
    "display(ex1)"
   ]
  },
  {
   "cell_type": "markdown",
   "id": "b99befc7",
   "metadata": {
    "tags": []
   },
   "source": [
    "### Statistical models\n",
    "\n",
    "In reality quantities like lead times and demand aren't static numbers and change. Demand is not constant and lead times vary depending on external factors (e.g. traffic, weather). \n",
    "\n",
    "The above model doesn't factor in the random variation that's experience in real life. Statistics can help us to quantify and factor in this variation. Statistical models use assumptions dervied from data to calculate the probabilites of different scenarios. \n",
    "\n",
    "The below example demonstrates how a Statistical model relies on uncertainty as well as input Statistics calculated from observed data. This model differs from the above in that there is no one answer, the model result is dependent on the desired stock out probability. Also note a 100% certainty can't be achieved, as in reality there is always a risk. "
   ]
  },
  {
   "cell_type": "code",
   "execution_count": 2,
   "id": "31f7d0e2",
   "metadata": {},
   "outputs": [
    {
     "data": {
      "application/vnd.jupyter.widget-view+json": {
       "model_id": "d0c98bd94e464b8487c04a5ddaa6140f",
       "version_major": 2,
       "version_minor": 0
      },
      "text/plain": [
       "interactive(children=(BoundedFloatText(value=1.0, description='Average demand:', max=10.0, step=0.1, style=Des…"
      ]
     },
     "metadata": {},
     "output_type": "display_data"
    },
    {
     "data": {
      "application/vnd.jupyter.widget-view+json": {
       "model_id": "d0c98bd94e464b8487c04a5ddaa6140f",
       "version_major": 2,
       "version_minor": 0
      },
      "text/plain": [
       "interactive(children=(BoundedFloatText(value=1.0, description='Average demand:', max=10.0, step=0.1, style=Des…"
      ]
     },
     "metadata": {},
     "output_type": "display_data"
    }
   ],
   "source": [
    "def stat_model(dmd_stat,LT_stat,pstockout):\n",
    "    if pstockout == 1.0:\n",
    "        print(\"Error: cannot calculate to 100% certainty\")\n",
    "    else:\n",
    "        z = stats.norm.ppf(pstockout)\n",
    "        LT_sd = LT_stat*0.1\n",
    "        rec = math.ceil(dmd_stat*(LT_stat + z*LT_sd))\n",
    "        print(\"Stock reccomendation: \" + str(rec))\n",
    "\n",
    "\n",
    "ex2 = widgets.interactive(stat_model,\n",
    "    dmd_stat = widgets.BoundedFloatText(\n",
    "    value=1.0,\n",
    "    min=0,\n",
    "    max=10.0,\n",
    "    step=0.1,\n",
    "    description='Average demand:',\n",
    "    disabled=False,\n",
    "    style=wstyle\n",
    "    ),\n",
    "    LT_stat = widgets.BoundedIntText(\n",
    "    value=1,\n",
    "    min=0,\n",
    "    max=100,\n",
    "    step=1,\n",
    "    description='Average lead time:',\n",
    "    disabled=False,\n",
    "    style=wstyle),\n",
    "    pstockout = widgets.BoundedFloatText(\n",
    "    value=0.95,\n",
    "    min=0.0,\n",
    "    max=100.0,\n",
    "    step=0.01,\n",
    "    description='Proability stockout:',\n",
    "    disabled=False,\n",
    "    style = wstyle\n",
    "    ))\n",
    "\n",
    "display(ex2)"
   ]
  },
  {
   "cell_type": "markdown",
   "id": "ba8c7ab7",
   "metadata": {},
   "source": [
    "### Statistical Distributions\n",
    "\n",
    "_\"A distribution is simply a collection of data, or scores, on a variable. Usually, these scores are arranged in order from smallest to largest and then they can be presented graphically.\"_ - Page 6, Statistics in Plain English, Third Edition, 2010.\n",
    "\n",
    "Statistical distributions are used to quantify and model the spread and uncertainty in a dataset. There are a number of unique distributions to describe different data and situations. Distributions are characterised by different quantities, which can be calculated from observed data. The example of a \"normal distribution\" will be used to explain the use and properties of a statistical distribution.\n",
    "\n",
    "#### Normal Distribution\n",
    "A normal distribution is the most common type of distribution and can be used to accurately describe many real world situations. For example, the heights of people, IQ scores, shoe size and blood pressure are all normally distributed. A normal distribution appears as a symmetrical bell shaped curve.\n",
    "\n",
    "A normal distribution is described by the _mean_ (average) and _standard deviation_ (a measure of the spread/variation) of a dataset or population.\n",
    "\n",
    "Plotted below is the _Probability Density Function_ (PDF) and _Cumulative Density Function_ (CDF) of a normal distribution. \n",
    "\n",
    "For a normal distribution the shape of the PDF is a symetrical bell shape, with a peak at the mean value. The area under a PDF curve is always 1. The probability of a value being within a given range is equal to the area under the curve between those values. \n",
    "\n",
    "A PDF of a distribution is useful because it shows at what values the data tends to be and how spread it is.\n",
    "\n",
    "The CDF shows the probability of a value being less than or equal to a point on the curve. The CDF is useful for determining risk, for example the stockholding needed to meet 95% of demand.  "
   ]
  },
  {
   "cell_type": "code",
   "execution_count": 3,
   "id": "4b2f6ca5",
   "metadata": {},
   "outputs": [
    {
     "data": {
      "application/vnd.jupyter.widget-view+json": {
       "model_id": "37fb9f33ac594d93be9483832620900c",
       "version_major": 2,
       "version_minor": 0
      },
      "text/plain": [
       "interactive(children=(FloatSlider(value=10.0, description='Mean:', layout=Layout(height='auto', width='400px')…"
      ]
     },
     "metadata": {},
     "output_type": "display_data"
    }
   ],
   "source": [
    "def norm_dist(mu,sigma):\n",
    "    x = np.linspace(mu - 5*sigma, mu + 5*sigma, 100)\n",
    "\n",
    "    fig,(ax1,ax2) = plt.subplots(1,2,figsize=(20,5))\n",
    "\n",
    "    ax1.set_xlim([0,20])\n",
    "    ax2.set_xlim([0,20])\n",
    "    \n",
    "    ax1.plot(x, stats.norm.pdf(x, mu, sigma))\n",
    "    ax2.plot(x, stats.norm.cdf(x, mu, sigma))\n",
    "\n",
    "    ax1.set_title(\"PDF of a normal distribution\",size=20)\n",
    "    ax2.set_title(\"CDF of a normal distribution\",size=20)\n",
    "\n",
    "    plt.show()\n",
    "    \n",
    "ex3 = widgets.interactive(norm_dist,\n",
    "    mu = widgets.FloatSlider(\n",
    "    value=10.0,\n",
    "    min=5.0,\n",
    "    max=15.0,\n",
    "    step=1.0,\n",
    "    description='Mean:',\n",
    "    disabled=False,\n",
    "    style=wstyle,\n",
    "    layout=widgets.Layout(width='400px', height='auto')\n",
    "    ),\n",
    "    sigma = widgets.FloatSlider(\n",
    "    value=2.0,\n",
    "    min=0.0,\n",
    "    max=5.0,\n",
    "    step=0.5,\n",
    "    description='Standard deviation:',\n",
    "    disabled=False,\n",
    "    style=wstyle,\n",
    "    layout=widgets.Layout(width='400px', height='auto')))\n",
    "\n",
    "display(ex3)"
   ]
  },
  {
   "cell_type": "code",
   "execution_count": null,
   "id": "06faac90",
   "metadata": {},
   "outputs": [],
   "source": []
  }
 ],
 "metadata": {
  "kernelspec": {
   "display_name": "Python 3 (ipykernel)",
   "language": "python",
   "name": "python3"
  },
  "language_info": {
   "codemirror_mode": {
    "name": "ipython",
    "version": 3
   },
   "file_extension": ".py",
   "mimetype": "text/x-python",
   "name": "python",
   "nbconvert_exporter": "python",
   "pygments_lexer": "ipython3",
   "version": "3.9.16"
  }
 },
 "nbformat": 4,
 "nbformat_minor": 5
}
